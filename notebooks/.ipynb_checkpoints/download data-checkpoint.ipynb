{
 "cells": [
  {
   "cell_type": "code",
   "execution_count": null,
   "metadata": {
    "executionInfo": {
     "elapsed": 10,
     "status": "ok",
     "timestamp": 1683623430663,
     "user": {
      "displayName": "hamid ravee",
      "userId": "00918790653708190806"
     },
     "user_tz": -210
    },
    "id": "xZex23bYK_Rn"
   },
   "outputs": [],
   "source": [
    "import shutil"
   ]
  },
  {
   "cell_type": "code",
   "execution_count": null,
   "metadata": {
    "colab": {
     "base_uri": "https://localhost:8080/",
     "height": 336
    },
    "executionInfo": {
     "elapsed": 6556,
     "status": "error",
     "timestamp": 1683623437211,
     "user": {
      "displayName": "hamid ravee",
      "userId": "00918790653708190806"
     },
     "user_tz": -210
    },
    "id": "0elTDtEWLBqL",
    "outputId": "0b050321-d42d-41bc-e43f-67882938d1c0"
   },
   "outputs": [],
   "source": [
    "from google.colab import drive\n",
    "drive.mount('/content/drive')"
   ]
  },
  {
   "cell_type": "code",
   "execution_count": null,
   "metadata": {
    "colab": {
     "base_uri": "https://localhost:8080/"
    },
    "executionInfo": {
     "elapsed": 32914,
     "status": "ok",
     "timestamp": 1678389789528,
     "user": {
      "displayName": "hamid ravee",
      "userId": "00918790653708190806"
     },
     "user_tz": -210
    },
    "id": "bSKpBRcJLgIt",
    "outputId": "02e82a2d-ee53-4ae4-9ebf-3a1e38d68d30"
   },
   "outputs": [],
   "source": [
    "# !wget https://toil-xena-hub.s3.us-east-1.amazonaws.com/download/tcga_gene_expected_count.gz\n",
    "!wget https://tcga-pancan-atlas-hub.s3.us-east-1.amazonaws.com/download/EB%2B%2BAdjustPANCAN_IlluminaHiSeq_RNASeqV2.geneExp.xena.gz"
   ]
  },
  {
   "cell_type": "code",
   "execution_count": null,
   "metadata": {
    "id": "R8c1uikkL0yR"
   },
   "outputs": [],
   "source": [
    "!gzip -d tcga_gene_expected_count.gz"
   ]
  },
  {
   "cell_type": "code",
   "execution_count": null,
   "metadata": {
    "colab": {
     "base_uri": "https://localhost:8080/"
    },
    "executionInfo": {
     "elapsed": 379,
     "status": "ok",
     "timestamp": 1673849241376,
     "user": {
      "displayName": "hamid ravee",
      "userId": "00918790653708190806"
     },
     "user_tz": -210
    },
    "id": "QrHZV5_QLJXi",
    "outputId": "c1d29b50-949f-432e-c23c-164a8b3048b2"
   },
   "outputs": [],
   "source": [
    "!ls /content/drive/MyDrive"
   ]
  },
  {
   "cell_type": "code",
   "execution_count": null,
   "metadata": {
    "colab": {
     "base_uri": "https://localhost:8080/",
     "height": 35
    },
    "executionInfo": {
     "elapsed": 33306,
     "status": "ok",
     "timestamp": 1678389874329,
     "user": {
      "displayName": "hamid ravee",
      "userId": "00918790653708190806"
     },
     "user_tz": -210
    },
    "id": "KZl8TEEgLo29",
    "outputId": "e99940ae-f267-49ee-864b-b10ceacc9fa4"
   },
   "outputs": [],
   "source": [
    "shutil.copy('tcga_gene_expected_count', '/content/drive/MyDrive/tcga_gene_expected_count')"
   ]
  }
 ],
 "metadata": {
  "colab": {
   "authorship_tag": "ABX9TyO3RC7i3qCWPa2zcalvD0fn",
   "provenance": []
  },
  "kernelspec": {
   "display_name": "Python 3 (ipykernel)",
   "language": "python",
   "name": "python3"
  },
  "language_info": {
   "codemirror_mode": {
    "name": "ipython",
    "version": 3
   },
   "file_extension": ".py",
   "mimetype": "text/x-python",
   "name": "python",
   "nbconvert_exporter": "python",
   "pygments_lexer": "ipython3",
   "version": "3.9.12"
  }
 },
 "nbformat": 4,
 "nbformat_minor": 1
}
