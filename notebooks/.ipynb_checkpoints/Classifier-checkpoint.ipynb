{
 "cells": [
  {
   "cell_type": "code",
   "execution_count": 1,
   "metadata": {
    "executionInfo": {
     "elapsed": 3361,
     "status": "ok",
     "timestamp": 1669278775931,
     "user": {
      "displayName": "hamid rv",
      "userId": "17305854711463338510"
     },
     "user_tz": -210
    },
    "id": "Bugzd6FI5APj"
   },
   "outputs": [],
   "source": [
    "from tensorflow.keras.models import Sequential\n",
    "from tensorflow.keras.layers import BatchNormalization\n",
    "from tensorflow.keras.layers import Conv2D\n",
    "from tensorflow.keras.layers import MaxPooling2D\n",
    "from tensorflow.keras.layers import Activation\n",
    "from tensorflow.keras.layers import Flatten\n",
    "from tensorflow.keras.layers import Dropout\n",
    "from tensorflow.keras.layers import Dense\n",
    "from tensorflow.keras.layers import LeakyReLU\n",
    "from tensorflow.keras.optimizers import Adam\n",
    "import tensorflow as tf\n",
    "import numpy as np\n",
    "from tensorflow.keras import backend as K"
   ]
  },
  {
   "cell_type": "code",
   "execution_count": 2,
   "metadata": {
    "executionInfo": {
     "elapsed": 23,
     "status": "ok",
     "timestamp": 1669278775934,
     "user": {
      "displayName": "hamid rv",
      "userId": "17305854711463338510"
     },
     "user_tz": -210
    },
    "id": "k8R5yQeh5Cp3"
   },
   "outputs": [],
   "source": [
    "root = '/content/drive/MyDrive/Ravaee/GTEX/'"
   ]
  },
  {
   "cell_type": "code",
   "execution_count": 3,
   "metadata": {
    "colab": {
     "base_uri": "https://localhost:8080/"
    },
    "executionInfo": {
     "elapsed": 34616,
     "status": "ok",
     "timestamp": 1669278810533,
     "user": {
      "displayName": "hamid rv",
      "userId": "17305854711463338510"
     },
     "user_tz": -210
    },
    "id": "DqN97AE35DiP",
    "outputId": "0199832a-4a51-40b3-8fc9-4d36dcc53818"
   },
   "outputs": [
    {
     "name": "stdout",
     "output_type": "stream",
     "text": [
      "Mounted at /content/drive\n"
     ]
    }
   ],
   "source": [
    "from google.colab import drive\n",
    "drive.mount('/content/drive')"
   ]
  },
  {
   "cell_type": "code",
   "execution_count": 4,
   "metadata": {
    "executionInfo": {
     "elapsed": 1127,
     "status": "ok",
     "timestamp": 1669278811648,
     "user": {
      "displayName": "hamid rv",
      "userId": "17305854711463338510"
     },
     "user_tz": -210
    },
    "id": "uE6sPMrb5APl"
   },
   "outputs": [],
   "source": [
    "from sklearn.model_selection import train_test_split"
   ]
  },
  {
   "cell_type": "code",
   "execution_count": 5,
   "metadata": {
    "executionInfo": {
     "elapsed": 20982,
     "status": "ok",
     "timestamp": 1669278832619,
     "user": {
      "displayName": "hamid rv",
      "userId": "17305854711463338510"
     },
     "user_tz": -210
    },
    "id": "ED7XODoh5APo"
   },
   "outputs": [],
   "source": [
    "x_train =np.load(root+'data.npy')\n",
    "y_train=np.load(root+'y.npy')\n",
    "num_classes = y_train.shape[1]"
   ]
  },
  {
   "cell_type": "code",
   "execution_count": 6,
   "metadata": {
    "executionInfo": {
     "elapsed": 45,
     "status": "ok",
     "timestamp": 1669278832621,
     "user": {
      "displayName": "hamid rv",
      "userId": "17305854711463338510"
     },
     "user_tz": -210
    },
    "id": "2DHBlDrD5APs"
   },
   "outputs": [],
   "source": [
    "x_train, x_val, y_train, y_val = train_test_split(x_train, y_train, test_size=0.25, random_state=1)"
   ]
  },
  {
   "cell_type": "code",
   "execution_count": 7,
   "metadata": {
    "executionInfo": {
     "elapsed": 39,
     "status": "ok",
     "timestamp": 1669278832625,
     "user": {
      "displayName": "hamid rv",
      "userId": "17305854711463338510"
     },
     "user_tz": -210
    },
    "id": "wPIRwYUt5APt"
   },
   "outputs": [],
   "source": [
    "stop_early = tf.keras.callbacks.EarlyStopping(monitor='val_loss', patience=5 ,restore_best_weights=True)"
   ]
  },
  {
   "cell_type": "code",
   "execution_count": 8,
   "metadata": {
    "executionInfo": {
     "elapsed": 33,
     "status": "ok",
     "timestamp": 1669278832627,
     "user": {
      "displayName": "hamid rv",
      "userId": "17305854711463338510"
     },
     "user_tz": -210
    },
    "id": "fh-GckfF5APv"
   },
   "outputs": [],
   "source": [
    "def recall_m(y_true, y_pred):\n",
    "    true_positives = K.sum(K.round(K.clip(y_true * y_pred, 0, 1)))\n",
    "    possible_positives = K.sum(K.round(K.clip(y_true, 0, 1)))\n",
    "    recall = true_positives / (possible_positives + K.epsilon())\n",
    "    return recall\n",
    "\n",
    "def precision_m(y_true, y_pred):\n",
    "    true_positives = K.sum(K.round(K.clip(y_true * y_pred, 0, 1)))\n",
    "    predicted_positives = K.sum(K.round(K.clip(y_pred, 0, 1)))\n",
    "    precision = true_positives / (predicted_positives + K.epsilon())\n",
    "    return precision\n",
    "\n",
    "def f1_m(y_true, y_pred):\n",
    "    precision = precision_m(y_true, y_pred)\n",
    "    recall = recall_m(y_true, y_pred)\n",
    "    return 2*((precision*recall)/(precision+recall+K.epsilon()))"
   ]
  },
  {
   "cell_type": "code",
   "execution_count": 9,
   "metadata": {
    "executionInfo": {
     "elapsed": 2483,
     "status": "ok",
     "timestamp": 1669278835087,
     "user": {
      "displayName": "hamid rv",
      "userId": "17305854711463338510"
     },
     "user_tz": -210
    },
    "id": "dKhEFWR95APx"
   },
   "outputs": [],
   "source": [
    "model = Sequential()\n",
    "\n",
    "model.add(Conv2D(32 , kernel_size=15 , strides=2 , padding=\"same\" , input_shape=(128,128,1)))\n",
    "model.add(LeakyReLU(alpha=0.2))\n",
    "\n",
    "          \n",
    "model.add(Conv2D(256 , kernel_size=15 , strides=2 , padding=\"same\" ))\n",
    "model.add(LeakyReLU(alpha=0.2))\n",
    "model.add(Dropout(0.5))\n",
    "\n",
    "model.add(Conv2D(512 , kernel_size=15 , strides=2 , padding=\"same\" ))\n",
    "model.add(LeakyReLU(alpha=0.2))\n",
    "\n",
    "          \n",
    "model.add(Conv2D(768 , kernel_size=15 , strides=2 , padding=\"same\" ))\n",
    "model.add(LeakyReLU(alpha=0.2))\n",
    "model.add(Dropout(0.5))\n",
    "\n",
    "model.add(Flatten())\n",
    "model.add(Dropout(0.2))\n",
    "\n",
    "# softmax classifier\n",
    "model.add(Dense(num_classes))\n",
    "model.add(Activation(\"softmax\"))"
   ]
  },
  {
   "cell_type": "code",
   "execution_count": 10,
   "metadata": {
    "colab": {
     "base_uri": "https://localhost:8080/"
    },
    "executionInfo": {
     "elapsed": 38,
     "status": "ok",
     "timestamp": 1669278835089,
     "user": {
      "displayName": "hamid rv",
      "userId": "17305854711463338510"
     },
     "user_tz": -210
    },
    "id": "LcFZwu785APz",
    "outputId": "9fa433e0-7f73-4713-918f-e494890e7566"
   },
   "outputs": [
    {
     "name": "stdout",
     "output_type": "stream",
     "text": [
      "Model: \"sequential\"\n",
      "_________________________________________________________________\n",
      " Layer (type)                Output Shape              Param #   \n",
      "=================================================================\n",
      " conv2d (Conv2D)             (None, 64, 64, 32)        7232      \n",
      "                                                                 \n",
      " leaky_re_lu (LeakyReLU)     (None, 64, 64, 32)        0         \n",
      "                                                                 \n",
      " conv2d_1 (Conv2D)           (None, 32, 32, 256)       1843456   \n",
      "                                                                 \n",
      " leaky_re_lu_1 (LeakyReLU)   (None, 32, 32, 256)       0         \n",
      "                                                                 \n",
      " dropout (Dropout)           (None, 32, 32, 256)       0         \n",
      "                                                                 \n",
      " conv2d_2 (Conv2D)           (None, 16, 16, 512)       29491712  \n",
      "                                                                 \n",
      " leaky_re_lu_2 (LeakyReLU)   (None, 16, 16, 512)       0         \n",
      "                                                                 \n",
      " conv2d_3 (Conv2D)           (None, 8, 8, 768)         88474368  \n",
      "                                                                 \n",
      " leaky_re_lu_3 (LeakyReLU)   (None, 8, 8, 768)         0         \n",
      "                                                                 \n",
      " dropout_1 (Dropout)         (None, 8, 8, 768)         0         \n",
      "                                                                 \n",
      " flatten (Flatten)           (None, 49152)             0         \n",
      "                                                                 \n",
      " dropout_2 (Dropout)         (None, 49152)             0         \n",
      "                                                                 \n",
      " dense (Dense)               (None, 54)                2654262   \n",
      "                                                                 \n",
      " activation (Activation)     (None, 54)                0         \n",
      "                                                                 \n",
      "=================================================================\n",
      "Total params: 122,471,030\n",
      "Trainable params: 122,471,030\n",
      "Non-trainable params: 0\n",
      "_________________________________________________________________\n"
     ]
    }
   ],
   "source": [
    "opt = Adam(learning_rate=1e-4)\n",
    "\n",
    "model.compile(optimizer=opt, loss=\"categorical_crossentropy\", metrics=[\"accuracy\",precision_m,recall_m,f1_m] )\n",
    "model.summary()"
   ]
  },
  {
   "cell_type": "code",
   "execution_count": 11,
   "metadata": {
    "colab": {
     "base_uri": "https://localhost:8080/"
    },
    "executionInfo": {
     "elapsed": 1585233,
     "status": "ok",
     "timestamp": 1669280420313,
     "user": {
      "displayName": "hamid rv",
      "userId": "17305854711463338510"
     },
     "user_tz": -210
    },
    "id": "OPDoBW1K5AP1",
    "outputId": "1704eeb1-bb8f-4d5c-ab65-59fc0c48dbf6"
   },
   "outputs": [
    {
     "name": "stdout",
     "output_type": "stream",
     "text": [
      "Epoch 1/100\n",
      "184/184 [==============================] - 153s 751ms/step - loss: 2.5199 - accuracy: 0.3384 - precision_m: 0.5750 - recall_m: 0.1982 - f1_m: 0.2749 - val_loss: 1.1002 - val_accuracy: 0.6738 - val_precision_m: 0.8900 - val_recall_m: 0.5489 - val_f1_m: 0.6758\n",
      "Epoch 2/100\n",
      "184/184 [==============================] - 130s 706ms/step - loss: 0.7591 - accuracy: 0.7605 - precision_m: 0.8772 - recall_m: 0.6830 - f1_m: 0.7651 - val_loss: 0.6013 - val_accuracy: 0.8028 - val_precision_m: 0.8879 - val_recall_m: 0.7471 - val_f1_m: 0.8103\n",
      "Epoch 3/100\n",
      "184/184 [==============================] - 130s 706ms/step - loss: 0.4732 - accuracy: 0.8394 - precision_m: 0.8999 - recall_m: 0.7947 - f1_m: 0.8429 - val_loss: 0.4631 - val_accuracy: 0.8476 - val_precision_m: 0.8949 - val_recall_m: 0.8088 - val_f1_m: 0.8489\n",
      "Epoch 4/100\n",
      "184/184 [==============================] - 131s 715ms/step - loss: 0.3681 - accuracy: 0.8746 - precision_m: 0.9141 - recall_m: 0.8416 - f1_m: 0.8756 - val_loss: 0.3959 - val_accuracy: 0.8721 - val_precision_m: 0.9243 - val_recall_m: 0.8364 - val_f1_m: 0.8773\n",
      "Epoch 5/100\n",
      "184/184 [==============================] - 130s 705ms/step - loss: 0.2916 - accuracy: 0.9023 - precision_m: 0.9292 - recall_m: 0.8777 - f1_m: 0.9022 - val_loss: 0.3569 - val_accuracy: 0.8889 - val_precision_m: 0.9142 - val_recall_m: 0.8739 - val_f1_m: 0.8934\n",
      "Epoch 6/100\n",
      "184/184 [==============================] - 130s 707ms/step - loss: 0.2443 - accuracy: 0.9177 - precision_m: 0.9389 - recall_m: 0.9036 - f1_m: 0.9206 - val_loss: 0.3169 - val_accuracy: 0.9098 - val_precision_m: 0.9435 - val_recall_m: 0.8890 - val_f1_m: 0.9151\n",
      "Epoch 7/100\n",
      "184/184 [==============================] - 130s 707ms/step - loss: 0.2089 - accuracy: 0.9286 - precision_m: 0.9454 - recall_m: 0.9143 - f1_m: 0.9293 - val_loss: 0.3000 - val_accuracy: 0.9195 - val_precision_m: 0.9424 - val_recall_m: 0.9051 - val_f1_m: 0.9231\n",
      "Epoch 8/100\n",
      "184/184 [==============================] - 130s 705ms/step - loss: 0.1871 - accuracy: 0.9390 - precision_m: 0.9514 - recall_m: 0.9267 - f1_m: 0.9387 - val_loss: 0.3514 - val_accuracy: 0.9021 - val_precision_m: 0.9162 - val_recall_m: 0.8936 - val_f1_m: 0.9045\n",
      "Epoch 9/100\n",
      "184/184 [==============================] - 129s 704ms/step - loss: 0.1758 - accuracy: 0.9405 - precision_m: 0.9512 - recall_m: 0.9325 - f1_m: 0.9416 - val_loss: 0.3677 - val_accuracy: 0.8904 - val_precision_m: 0.9168 - val_recall_m: 0.8774 - val_f1_m: 0.8964\n",
      "Epoch 10/100\n",
      "184/184 [==============================] - 131s 713ms/step - loss: 0.1394 - accuracy: 0.9507 - precision_m: 0.9608 - recall_m: 0.9441 - f1_m: 0.9522 - val_loss: 0.3109 - val_accuracy: 0.9185 - val_precision_m: 0.9303 - val_recall_m: 0.9142 - val_f1_m: 0.9221\n",
      "Epoch 11/100\n",
      "184/184 [==============================] - 131s 713ms/step - loss: 0.1200 - accuracy: 0.9563 - precision_m: 0.9634 - recall_m: 0.9522 - f1_m: 0.9577 - val_loss: 0.3218 - val_accuracy: 0.9230 - val_precision_m: 0.9323 - val_recall_m: 0.9142 - val_f1_m: 0.9230\n",
      "Epoch 12/100\n",
      "184/184 [==============================] - 130s 706ms/step - loss: 0.1207 - accuracy: 0.9587 - precision_m: 0.9651 - recall_m: 0.9531 - f1_m: 0.9590 - val_loss: 0.3172 - val_accuracy: 0.9281 - val_precision_m: 0.9377 - val_recall_m: 0.9254 - val_f1_m: 0.9314\n"
     ]
    }
   ],
   "source": [
    "hist = model.fit(x_train, y_train, epochs=100, validation_data=(x_val, y_val), callbacks=[stop_early])"
   ]
  },
  {
   "cell_type": "code",
   "execution_count": 12,
   "metadata": {
    "executionInfo": {
     "elapsed": 29,
     "status": "ok",
     "timestamp": 1669280420316,
     "user": {
      "displayName": "hamid rv",
      "userId": "17305854711463338510"
     },
     "user_tz": -210
    },
    "id": "TL8UMJeq5AP2"
   },
   "outputs": [],
   "source": [
    "import matplotlib.pyplot as plt"
   ]
  },
  {
   "cell_type": "code",
   "execution_count": 13,
   "metadata": {
    "colab": {
     "base_uri": "https://localhost:8080/",
     "height": 265
    },
    "executionInfo": {
     "elapsed": 59340,
     "status": "ok",
     "timestamp": 1669280479633,
     "user": {
      "displayName": "hamid rv",
      "userId": "17305854711463338510"
     },
     "user_tz": -210
    },
    "id": "QkWrq3e_5AP3",
    "outputId": "3aa0002b-b75c-44fc-caf7-fcc2e11aebfd"
   },
   "outputs": [
    {
     "data": {
      "image/png": "[encoded data removed]",
      "text/plain": [
       "<Figure size 432x288 with 1 Axes>"
      ]
     },
     "metadata": {
      "needs_background": "light"
     },
     "output_type": "display_data"
    }
   ],
   "source": [
    "plt.plot(hist.epoch , hist.history['loss'])\n",
    "plt.plot(hist.epoch , hist.history['val_loss'])\n",
    "plt.legend(['loss','val_loss'])\n",
    "plt.show()"
   ]
  },
  {
   "cell_type": "code",
   "execution_count": 14,
   "metadata": {
    "colab": {
     "base_uri": "https://localhost:8080/",
     "height": 265
    },
    "executionInfo": {
     "elapsed": 150,
     "status": "ok",
     "timestamp": 1669280479666,
     "user": {
      "displayName": "hamid rv",
      "userId": "17305854711463338510"
     },
     "user_tz": -210
    },
    "id": "DdE2p0815AP5",
    "outputId": "a251289a-ba75-4b98-97cc-bc231df822a5"
   },
   "outputs": [
    {
     "data": {
      "image/png": "[encoded data removed]",
      "text/plain": [
       "<Figure size 432x288 with 1 Axes>"
      ]
     },
     "metadata": {
      "needs_background": "light"
     },
     "output_type": "display_data"
    }
   ],
   "source": [
    "plt.plot(hist.epoch , hist.history['accuracy'])\n",
    "plt.plot(hist.epoch , hist.history['val_accuracy'])\n",
    "plt.legend(['accuracy','val_accuracy'])\n",
    "plt.show()"
   ]
  },
  {
   "cell_type": "code",
   "execution_count": 16,
   "metadata": {
    "colab": {
     "base_uri": "https://localhost:8080/"
    },
    "executionInfo": {
     "elapsed": 27543,
     "status": "ok",
     "timestamp": 1669280512594,
     "user": {
      "displayName": "hamid rv",
      "userId": "17305854711463338510"
     },
     "user_tz": -210
    },
    "id": "kjnRVZDM3kO2",
    "outputId": "49a914b5-b406-4c4e-9e69-d2600eea6768"
   },
   "outputs": [
    {
     "name": "stdout",
     "output_type": "stream",
     "text": [
      "184/184 [==============================] - 26s 143ms/step - loss: 0.1378 - accuracy: 0.9594 - precision_m: 0.9719 - recall_m: 0.9456 - f1_m: 0.9584\n"
     ]
    },
    {
     "data": {
      "text/plain": [
       "[0.13776127994060516,\n",
       " 0.9593744874000549,\n",
       " 0.971930205821991,\n",
       " 0.9455892443656921,\n",
       " 0.9583535194396973]"
      ]
     },
     "execution_count": 16,
     "metadata": {},
     "output_type": "execute_result"
    }
   ],
   "source": [
    "model.evaluate(x_train, y_train)"
   ]
  },
  {
   "cell_type": "code",
   "execution_count": 17,
   "metadata": {
    "colab": {
     "base_uri": "https://localhost:8080/"
    },
    "executionInfo": {
     "elapsed": 9072,
     "status": "ok",
     "timestamp": 1669280562390,
     "user": {
      "displayName": "hamid rv",
      "userId": "17305854711463338510"
     },
     "user_tz": -210
    },
    "id": "BqTF5y7I3snl",
    "outputId": "6658be6f-ff65-4591-c802-9b3572ef8e7f"
   },
   "outputs": [
    {
     "name": "stdout",
     "output_type": "stream",
     "text": [
      "62/62 [==============================] - 9s 142ms/step - loss: 0.3000 - accuracy: 0.9195 - precision_m: 0.9424 - recall_m: 0.9051 - f1_m: 0.9231\n"
     ]
    },
    {
     "data": {
      "text/plain": [
       "[0.30001017451286316,\n",
       " 0.919469952583313,\n",
       " 0.9424453377723694,\n",
       " 0.9051411747932434,\n",
       " 0.9231445789337158]"
      ]
     },
     "execution_count": 17,
     "metadata": {},
     "output_type": "execute_result"
    }
   ],
   "source": [
    "model.evaluate(x_val, y_val)"
   ]
  },
  {
   "cell_type": "code",
   "execution_count": 15,
   "metadata": {
    "executionInfo": {
     "elapsed": 147,
     "status": "ok",
     "timestamp": 1669280479676,
     "user": {
      "displayName": "hamid rv",
      "userId": "17305854711463338510"
     },
     "user_tz": -210
    },
    "id": "P-GCkvhs5AP6"
   },
   "outputs": [],
   "source": [
    "# model.save(root+'classifier.h5')"
   ]
  }
 ],
 "metadata": {
  "accelerator": "GPU",
  "colab": {
   "provenance": []
  },
  "gpuClass": "standard",
  "kernelspec": {
   "display_name": "Python 3 (ipykernel)",
   "language": "python",
   "name": "python3"
  },
  "language_info": {
   "codemirror_mode": {
    "name": "ipython",
    "version": 3
   },
   "file_extension": ".py",
   "mimetype": "text/x-python",
   "name": "python",
   "nbconvert_exporter": "python",
   "pygments_lexer": "ipython3",
   "version": "3.9.12"
  }
 },
 "nbformat": 4,
 "nbformat_minor": 1
}
